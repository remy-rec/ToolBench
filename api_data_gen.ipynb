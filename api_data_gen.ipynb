{
 "cells": [
  {
   "cell_type": "code",
   "execution_count": 130,
   "id": "658cd9a7",
   "metadata": {},
   "outputs": [],
   "source": [
    "from selenium import webdriver\n",
    "from selenium.webdriver.ie.options import Options\n",
    "\n",
    "# chromedriver\n",
    "options = webdriver.ChromeOptions()\n",
    "# options.add_argument('headless')\n",
    "options.add_argument('window-size=1920x1080')\n",
    "options.add_argument(\"disable-gpu\")\n",
    "driver = webdriver.Chrome(options=options)"
   ]
  },
  {
   "cell_type": "markdown",
   "id": "2dcd371c",
   "metadata": {},
   "source": [
    "- 떠있는 크롬 화면에서 로그인 필요\n",
    "- 구글 로그인 해야 해서 로그인을 시스템으로 만드려면 또 복잡..."
   ]
  },
  {
   "cell_type": "markdown",
   "id": "96160be7",
   "metadata": {},
   "source": [
    "## link에서 api 리스트 정보 수집"
   ]
  },
  {
   "cell_type": "code",
   "execution_count": 131,
   "id": "693f3f4f",
   "metadata": {},
   "outputs": [],
   "source": [
    "# Load Page\n",
    "driver.get(url='https://rapidapi.com/collection/list-of-free-apis')"
   ]
  },
  {
   "cell_type": "code",
   "execution_count": 132,
   "id": "349af8fd",
   "metadata": {},
   "outputs": [
    {
     "name": "stdout",
     "output_type": "stream",
     "text": [
      "page 2\n",
      "page 3\n",
      "page 4\n",
      "page 5\n",
      "page 6\n",
      "page 7\n",
      "page 8\n",
      "page 9\n",
      "page 10\n",
      "page 11\n"
     ]
    },
    {
     "data": {
      "text/plain": [
       "240"
      ]
     },
     "execution_count": 132,
     "metadata": {},
     "output_type": "execute_result"
    }
   ],
   "source": [
    "from selenium.webdriver.common.by import By\n",
    "\n",
    "\n",
    "def pagenation(driver, trial):\n",
    "    pages = driver.find_elements(By.XPATH, f\"//li[contains(@class, 'r-page-item')]\")\n",
    "    idx = -1\n",
    "    for i, page in enumerate(pages):\n",
    "        _class = page.get_attribute(\"class\")\n",
    "        if _class.endswith(\"selected\"):\n",
    "            idx = i\n",
    "    if -1 < idx and idx + 1 < len(pages):\n",
    "        button = pages[idx + 1].find_element(By.XPATH, \".//button\")\n",
    "        print(f\"page {trial}\")\n",
    "        disabled = button.get_attribute(\"disabled\")\n",
    "        if not disabled:\n",
    "            button.click()\n",
    "    return idx\n",
    "\n",
    "\n",
    "def get_page_links(driver, url):\n",
    "    driver.get(url=url)\n",
    "    links = []\n",
    "    idx = 0\n",
    "    max_trial = 10\n",
    "    trial = 0\n",
    "    while -1 < idx and trial < max_trial:\n",
    "        elements = driver.find_elements(By.CSS_SELECTOR, 'a.CardLink')\n",
    "        for element in elements:\n",
    "            link = element.get_attribute('href')\n",
    "            links.append(link)\n",
    "        idx = pagenation(driver, trial + 2)\n",
    "        trial += 1\n",
    "    return links\n",
    "\n",
    "links = get_page_links(driver, 'https://rapidapi.com/category/Weather')\n",
    "# links = get_page_links(driver, 'https://rapidapi.com/collection/list-of-free-apis')\n",
    "len(links)"
   ]
  },
  {
   "cell_type": "code",
   "execution_count": 113,
   "id": "c889df21",
   "metadata": {},
   "outputs": [
    {
     "name": "stdout",
     "output_type": "stream",
     "text": [
      "view_from_16_day_daily_forecast_dates\n"
     ]
    }
   ],
   "source": [
    "import re\n",
    "\n",
    "\n",
    "def to_snake_case(input_string):\n",
    "    # 문자열 내의 모든 공백과 /를 언더스코어(_)로 대체\n",
    "    input_string = re.sub(r'[\\s/]', '_', input_string)\n",
    "    # 소문자로 변환\n",
    "    input_string = input_string.lower()\n",
    "    # 특수 문자 제거 (예: /)\n",
    "    input_string = re.sub(r'[^a-z0-9_]', '', input_string)\n",
    "    # 언더스코어(_) 연속을 하나의 언더스코어로 축약\n",
    "    input_string = re.sub(r'_+', '_', input_string)\n",
    "    # 언더스코어(_)로 시작하거나 끝나는 경우 제거\n",
    "    input_string = input_string.strip('_')\n",
    "    \n",
    "    return input_string\n",
    "\n",
    "# 테스트\n",
    "input_string = \"View from 16 day/{daily} forecast dates\"\n",
    "snake_case_string = to_snake_case(input_string)\n",
    "print(snake_case_string)  # 출력: \"view_from_16_day_daily_forecast_dates\""
   ]
  },
  {
   "cell_type": "markdown",
   "id": "69af5111",
   "metadata": {},
   "source": [
    "## 수집한 link에서 자동으로 api subscribe & param 수집"
   ]
  },
  {
   "cell_type": "code",
   "execution_count": 139,
   "id": "15416e5f",
   "metadata": {},
   "outputs": [
    {
     "name": "stderr",
     "output_type": "stream",
     "text": [
      "  0%|                                                                                                                                                                                                                                                                                           | 0/240 [00:00<?, ?it/s]ERROR:root:https://rapidapi.com/darkskyapis/api/dark-sky/\n",
      "Traceback (most recent call last):\n",
      "  File \"/var/folders/rp/wmsf2gtd4ddg9wfz3b3_mn9c0000gn/T/ipykernel_51910/2889434308.py\", line 184, in visit_links\n",
      "    is_success = subscribe_api(driver, link)\n",
      "  File \"/var/folders/rp/wmsf2gtd4ddg9wfz3b3_mn9c0000gn/T/ipykernel_51910/2889434308.py\", line 51, in subscribe_api\n",
      "    complete = WebDriverWait(driver, 2).until(\n",
      "  File \"/Users/stepping1st/miniforge3/lib/python3.9/site-packages/selenium/webdriver/support/wait.py\", line 95, in until\n",
      "    raise TimeoutException(message, screen, stacktrace)\n",
      "selenium.common.exceptions.TimeoutException: Message: \n",
      "Stacktrace:\n",
      "0   chromedriver                        0x0000000104a68510 chromedriver + 4310288\n",
      "1   chromedriver                        0x0000000104a604bc chromedriver + 4277436\n",
      "2   chromedriver                        0x0000000104693b6c chromedriver + 293740\n",
      "3   chromedriver                        0x00000001046d9040 chromedriver + 577600\n",
      "4   chromedriver                        0x0000000104713e60 chromedriver + 818784\n",
      "5   chromedriver                        0x00000001046ccfd0 chromedriver + 528336\n",
      "6   chromedriver                        0x00000001046cde7c chromedriver + 532092\n",
      "7   chromedriver                        0x0000000104a2e834 chromedriver + 4073524\n",
      "8   chromedriver                        0x0000000104a327fc chromedriver + 4089852\n",
      "9   chromedriver                        0x0000000104a32c58 chromedriver + 4090968\n",
      "10  chromedriver                        0x0000000104a388f8 chromedriver + 4114680\n",
      "11  chromedriver                        0x0000000104a33234 chromedriver + 4092468\n",
      "12  chromedriver                        0x0000000104a0d604 chromedriver + 3937796\n",
      "13  chromedriver                        0x0000000104a4fee8 chromedriver + 4210408\n",
      "14  chromedriver                        0x0000000104a50064 chromedriver + 4210788\n",
      "15  chromedriver                        0x0000000104a60134 chromedriver + 4276532\n",
      "16  libsystem_pthread.dylib             0x0000000183dc426c _pthread_start + 148\n",
      "17  libsystem_pthread.dylib             0x0000000183dbf08c thread_start + 8\n",
      "\n",
      "  0%|█▏                                                                                                                                                                                                                                                                                 | 1/240 [00:06<25:57,  6.52s/it]ERROR:root:https://rapidapi.com/weatherbit/api/air-quality/\n",
      "Traceback (most recent call last):\n",
      "  File \"/var/folders/rp/wmsf2gtd4ddg9wfz3b3_mn9c0000gn/T/ipykernel_51910/2889434308.py\", line 184, in visit_links\n",
      "    is_success = subscribe_api(driver, link)\n",
      "  File \"/var/folders/rp/wmsf2gtd4ddg9wfz3b3_mn9c0000gn/T/ipykernel_51910/2889434308.py\", line 51, in subscribe_api\n",
      "    complete = WebDriverWait(driver, 2).until(\n",
      "  File \"/Users/stepping1st/miniforge3/lib/python3.9/site-packages/selenium/webdriver/support/wait.py\", line 95, in until\n",
      "    raise TimeoutException(message, screen, stacktrace)\n",
      "selenium.common.exceptions.TimeoutException: Message: \n",
      "Stacktrace:\n",
      "0   chromedriver                        0x0000000104a68510 chromedriver + 4310288\n",
      "1   chromedriver                        0x0000000104a604bc chromedriver + 4277436\n",
      "2   chromedriver                        0x0000000104693b6c chromedriver + 293740\n",
      "3   chromedriver                        0x00000001046d9040 chromedriver + 577600\n",
      "4   chromedriver                        0x0000000104713e60 chromedriver + 818784\n",
      "5   chromedriver                        0x00000001046ccfd0 chromedriver + 528336\n",
      "6   chromedriver                        0x00000001046cde7c chromedriver + 532092\n",
      "7   chromedriver                        0x0000000104a2e834 chromedriver + 4073524\n",
      "8   chromedriver                        0x0000000104a327fc chromedriver + 4089852\n",
      "9   chromedriver                        0x0000000104a32c58 chromedriver + 4090968\n",
      "10  chromedriver                        0x0000000104a388f8 chromedriver + 4114680\n",
      "11  chromedriver                        0x0000000104a33234 chromedriver + 4092468\n",
      "12  chromedriver                        0x0000000104a0d604 chromedriver + 3937796\n",
      "13  chromedriver                        0x0000000104a4fee8 chromedriver + 4210408\n",
      "14  chromedriver                        0x0000000104a50064 chromedriver + 4210788\n",
      "15  chromedriver                        0x0000000104a60134 chromedriver + 4276532\n",
      "16  libsystem_pthread.dylib             0x0000000183dc426c _pthread_start + 148\n",
      "17  libsystem_pthread.dylib             0x0000000183dbf08c thread_start + 8\n",
      "\n",
      "  1%|███▍                                                                                                                                                                                                                                                                               | 3/240 [00:17<22:54,  5.80s/it]ERROR:root:https://rapidapi.com/interzoid/api/us-weather-by-zip-code/\n",
      "Traceback (most recent call last):\n",
      "  File \"/var/folders/rp/wmsf2gtd4ddg9wfz3b3_mn9c0000gn/T/ipykernel_51910/2889434308.py\", line 184, in visit_links\n",
      "    is_success = subscribe_api(driver, link)\n",
      "  File \"/var/folders/rp/wmsf2gtd4ddg9wfz3b3_mn9c0000gn/T/ipykernel_51910/2889434308.py\", line 51, in subscribe_api\n",
      "    complete = WebDriverWait(driver, 2).until(\n",
      "  File \"/Users/stepping1st/miniforge3/lib/python3.9/site-packages/selenium/webdriver/support/wait.py\", line 95, in until\n",
      "    raise TimeoutException(message, screen, stacktrace)\n",
      "selenium.common.exceptions.TimeoutException: Message: \n",
      "Stacktrace:\n",
      "0   chromedriver                        0x0000000104a68510 chromedriver + 4310288\n",
      "1   chromedriver                        0x0000000104a604bc chromedriver + 4277436\n",
      "2   chromedriver                        0x0000000104693b6c chromedriver + 293740\n",
      "3   chromedriver                        0x00000001046d9040 chromedriver + 577600\n",
      "4   chromedriver                        0x0000000104713e60 chromedriver + 818784\n",
      "5   chromedriver                        0x00000001046ccfd0 chromedriver + 528336\n",
      "6   chromedriver                        0x00000001046cde7c chromedriver + 532092\n",
      "7   chromedriver                        0x0000000104a2e834 chromedriver + 4073524\n",
      "8   chromedriver                        0x0000000104a327fc chromedriver + 4089852\n",
      "9   chromedriver                        0x0000000104a32c58 chromedriver + 4090968\n",
      "10  chromedriver                        0x0000000104a388f8 chromedriver + 4114680\n",
      "11  chromedriver                        0x0000000104a33234 chromedriver + 4092468\n",
      "12  chromedriver                        0x0000000104a0d604 chromedriver + 3937796\n",
      "13  chromedriver                        0x0000000104a4fee8 chromedriver + 4210408\n",
      "14  chromedriver                        0x0000000104a50064 chromedriver + 4210788\n",
      "15  chromedriver                        0x0000000104a60134 chromedriver + 4276532\n",
      "16  libsystem_pthread.dylib             0x0000000183dc426c _pthread_start + 148\n",
      "17  libsystem_pthread.dylib             0x0000000183dbf08c thread_start + 8\n",
      "\n",
      "  2%|█████▋                                                                                                                                                                                                                                                                           | 5/240 [01:30<1:48:45, 27.77s/it]"
     ]
    },
    {
     "name": "stdout",
     "output_type": "stream",
     "text": [
      "{'name': 'Visual Crossing Weather', 'cate': 'Weather', 'tool_description': 'Visual Crossing Weather API provides instant access to both historical weather records and weather f', 'api_list': [{'root_url': 'visual-crossing-weather.p.rapidapi.com', 'func_url': '/forecast', 'func_name': 'visual_crossing_weather_weather_forecast_data', 'method': 'GET', 'required_parameters': [{'name': 'aggregateHours', 'type': 'NUMBER', 'input_value': None, 'extra': 'The interval between weather forecast data in the output. 1 represents an hourly forecast, 24 represents a daily forecast. As the source data is calculated at the hourly level, records calculated at 12 or 24 hours are aggregated to indicate the predominant weather condition during that time period. For example the maximum temperature, total precipitation, maximum windspeed etc. Supported values 1,12 or 24.', 'metas': [], 'description': 'The interval between weather forecast data in the output. 1 represents an hourly forecast, 24 represents a daily forecast. As the source data is calculated at the hourly level, records calculated at 12 or 24 hours are aggregated to indicate the predominant weather condition during that time period. For example the maximum temperature, total precipitation, maximum windspeed etc. Supported values 1,12 or 24.'}, {'name': 'location', 'type': 'STRING', 'input_value': 'Washington,DC,USA', 'extra': 'he address or latitude or longitude of the location. Addresses can be specified as full addresses. The system will also attempt to match partial addresses such as city, state, zip code, postal code and other common formats. When specify a point based on longitude, latitude, the format must be specifed as latitude,longitude where both latitude and longitude are in decimal degrees. latitude should run from -90 to 90 and longitude from -180 to 180 (with 0 being at the prime meridian through London, UK).', 'metas': [], 'description': 'he address or latitude or longitude of the location. Addresses can be specified as full addresses. The system will also attempt to match partial addresses such as city, state, zip code, postal code and other common formats. When specify a point based on longitude, latitude, the format must be specifed as latitude,longitude where both latitude and longitude are in decimal degrees. latitude should run from -90 to 90 and longitude from -180 to 180 (with 0 being at the prime meridian through London, UK).'}], 'optional_parameters': [{'name': 'contentType', 'type': 'STRING', 'input_value': 'csv', 'extra': 'When present, choose between json or csv output', 'metas': [], 'description': 'When present, choose between json or csv output'}, {'name': 'unitGroup', 'type': 'STRING', 'input_value': 'us', 'extra': 'unitGroup - The system of units used for the output data. Supported values are us,uk,metric.', 'metas': [], 'description': 'unitGroup - The system of units used for the output data. Supported values are us,uk,metric.'}, {'name': 'shortColumnNames', 'type': 'BOOLEAN', 'input_value': None, 'extra': 'When false, the returned dataset includes descriptive column names. When true, returns shorter, abbreviated column names with only alphanumeric characters. The short names are useful for programmatic use of the data.', 'metas': [], 'description': 'When false, the returned dataset includes descriptive column names. When true, returns shorter, abbreviated column names with only alphanumeric characters. The short names are useful for programmatic use of the data.'}], 'response': '200'}, {'root_url': 'visual-crossing-weather.p.rapidapi.com', 'func_url': '', 'func_name': 'visual_crossing_weather_historical_weather_record', 'method': 'GET', 'required_parameters': [{'name': 'startDateTime', 'type': 'STRING', 'input_value': '2019-01-01T00:00:00', 'extra': 'The date time for the start of the data request using the time zone of the location. In the ISO format: yyyy-MM-ddTHH:mm:ss. Hours should be specified in 24 hour clock format.', 'metas': [], 'description': 'The date time for the start of the data request using the time zone of the location. In the ISO format: yyyy-MM-ddTHH:mm:ss. Hours should be specified in 24 hour clock format.'}, {'name': 'aggregateHours', 'type': 'NUMBER', 'input_value': None, 'extra': 'The interval between weather history data in the output. 1 represent hourly records, 24 represents a daily forecast. As the source data is recorded at the hourly level, 24 hour records are aggregated to indicate the predominant weather conditions during that time period. Supported values 1 or 24.', 'metas': [], 'description': 'The interval between weather history data in the output. 1 represent hourly records, 24 represents a daily forecast. As the source data is recorded at the hourly level, 24 hour records are aggregated to indicate the predominant weather conditions during that time period. Supported values 1 or 24.'}, {'name': 'location', 'type': 'STRING', 'input_value': 'Washington,DC,USA', 'extra': 'The address or latitude or longitude of the location. Addresses can be specified as full addresses. The system will also attempt to match partial addresses such as city, state, zip code, postal code and other common formats. When specify a point based on longitude, latitude, the format must be specifed as latitude,longitude where both latitude and longitude are in decimal degrees. latitude should run from -90 to 90 and longitude from -180 to 180 (with 0 being at the prime meridian through London, UK).', 'metas': [], 'description': 'The address or latitude or longitude of the location. Addresses can be specified as full addresses. The system will also attempt to match partial addresses such as city, state, zip code, postal code and other common formats. When specify a point based on longitude, latitude, the format must be specifed as latitude,longitude where both latitude and longitude are in decimal degrees. latitude should run from -90 to 90 and longitude from -180 to 180 (with 0 being at the prime meridian through London, UK).'}, {'name': 'endDateTime', 'type': 'STRING', 'input_value': '2019-01-03T00:00:00', 'extra': 'The date time for the start of the data request using the time zone of the location. In the ISO format: yyyy-MM-ddTHH:mm:ss. Hours should be specified in 24 hour clock format.', 'metas': [], 'description': 'The date time for the start of the data request using the time zone of the location. In the ISO format: yyyy-MM-ddTHH:mm:ss. Hours should be specified in 24 hour clock format.'}, {'name': 'unitGroup', 'type': 'STRING', 'input_value': 'us', 'extra': 'The system of units used for the output data. Supported values are us,uk,metric', 'metas': [], 'description': 'The system of units used for the output data. Supported values are us,uk,metric'}], 'optional_parameters': [{'name': 'dayStartTime', 'type': 'STRING', 'input_value': '8:00:00', 'extra': 'When present and not set to the same as the dayEndTime, filters the output to records that between the specified day times. This is useful for setting filters for business hours. Format h:m:ss (eg 9:00:00 woudl be 9am).', 'metas': [], 'description': 'When present and not set to the same as the dayEndTime, filters the output to records that between the specified day times. This is useful for setting filters for business hours. Format h:m:ss (eg 9:00:00 woudl be 9am).'}, {'name': 'contentType', 'type': 'STRING', 'input_value': 'csv', 'extra': 'When present, choose between json or csv output', 'metas': [], 'description': 'When present, choose between json or csv output'}, {'name': 'dayEndTime', 'type': 'STRING', 'input_value': '17:00:00', 'extra': 'When present and not set to the same as the dayEndTime, filters the output to records that between the specified day times.', 'metas': [], 'description': 'When present and not set to the same as the dayEndTime, filters the output to records that between the specified day times.'}, {'name': 'shortColumnNames', 'type': 'BOOLEAN', 'input_value': None, 'extra': 'When false, the returned dataset includes descriptive column names. When true, returns shorter, abbreviated column names with only alphanumeric characters. The short names are useful for programmatic use of the data.', 'metas': [], 'description': 'When false, the returned dataset includes descriptive column names. When true, returns shorter, abbreviated column names with only alphanumeric characters. The short names are useful for programmatic use of the data.'}], 'response': ''}]}\n"
     ]
    },
    {
     "name": "stderr",
     "output_type": "stream",
     "text": [
      "\r",
      "  2%|██████▊                                                                                                                                                                                                                                                                          | 6/240 [02:59<3:09:06, 48.49s/it]"
     ]
    },
    {
     "name": "stdout",
     "output_type": "stream",
     "text": [
      "{'name': 'WeatherAPI.com', 'cate': 'Weather', 'tool_description': 'WeatherAPI.com is a powerful fully managed free weather and geolocation API provider that provides e', 'api_list': [{'root_url': 'weatherapi-com.p.rapidapi.com', 'func_url': '/current.json', 'func_name': 'weatherapicom_realtime_weather_api', 'method': 'GET', 'required_parameters': [{'name': 'q', 'type': 'STRING', 'input_value': '53.1,-0.13', 'extra': 'Query parameter based on which data is sent back. It could be following: Latitude and Longitude (Decimal degree) e.g: q=48.8567,2.3508 city name e.g.: q=Paris US zip e.g.: q=10001 UK postcode e.g: q=SW1 Canada postal code e.g: q=G2J metar: e.g: q=metar:EGLL iata:<3 digit airport code> e.g: q=iata:DXB auto:ip IP lookup e.g: q=auto:ip IP address (IPv4 and IPv6 supported) e.g: q=100.0.0.1', 'metas': [], 'description': 'Query parameter based on which data is sent back. It could be following: Latitude and Longitude (Decimal degree) e.g: q=48.8567,2.3508 city name e.g.: q=Paris US zip e.g.: q=10001 UK postcode e.g: q=SW1 Canada postal code e.g: q=G2J metar: e.g: q=metar:EGLL iata:<3 digit airport code> e.g: q=iata:DXB auto:ip IP lookup e.g: q=auto:ip IP address (IPv4 and IPv6 supported) e.g: q=100.0.0.1'}], 'optional_parameters': [], 'response': '200'}, {'root_url': 'weatherapi-com.p.rapidapi.com', 'func_url': '', 'func_name': 'weatherapicom_forecast_weather_api', 'method': 'GET', 'required_parameters': [{'name': 'q', 'type': 'STRING', 'input_value': 'London', 'extra': 'Query parameter based on which data is sent back. It could be following:', 'metas': [], 'description': 'Query parameter based on which data is sent back. It could be following:\\nLatitude and Longitude (Decimal degree) e.g: q=48.8567,2.3508\\ncity name e.g.: q=Paris\\nUS zip e.g.: q=10001\\nUK postcode e.g: q=SW1\\nCanada postal code e.g: q=G2J\\nmetar: e.g: q=metar:EGLL\\niata:<3 digit airport code> e.g: q=iata:DXB\\nauto:ip IP lookup e.g: q=auto:ip\\nIP address (IPv4 and IPv6 supported) e.g: q=100.0.0.1'}], 'optional_parameters': [{'name': 'days', 'type': 'NUMBER', 'input_value': None, 'extra': 'Number of days of forecast required.', 'metas': [], 'description': 'Number of days of forecast required.'}, {'name': 'lang', 'type': 'STRING', 'input_value': '', 'extra': \"Returns 'condition:text' field in API in the desired language\", 'metas': [], 'description': \"Returns 'condition:text' field in API in the desired language\"}, {'name': 'dt', 'type': 'DATE (YYYY-MM-DD)', 'input_value': None, 'extra': \"If passing 'dt', it should be between today and next 10 day in yyyy-MM-dd format.\", 'metas': [], 'description': \"If passing 'dt', it should be between today and next 10 day in yyyy-MM-dd format.\"}], 'response': ''}, {'root_url': 'weatherapi-com.p.rapidapi.com', 'func_url': '/ip.json', 'func_name': 'weatherapicom_ip_lookup_api', 'method': 'GET', 'required_parameters': [{'name': 'q', 'type': 'STRING', 'input_value': '', 'extra': 'e.g: q=auto:ip', 'metas': [], 'description': 'e.g: q=auto:ip\\nIP address (IPv4 and IPv6 supported) e.g: q=100.0.0.1'}], 'optional_parameters': [], 'response': ''}, {'root_url': 'weatherapi-com.p.rapidapi.com', 'func_url': '/timezone.json', 'func_name': 'weatherapicom_time_zone_api', 'method': 'GET', 'required_parameters': [{'name': 'q', 'type': 'STRING', 'input_value': '', 'extra': 'Query parameter based on which data is sent back. It could be following:', 'metas': ['External Docs: Doc'], 'description': 'Query parameter based on which data is sent back. It could be following:\\nLatitude and Longitude (Decimal degree) e.g: q=48.8567,2.3508\\ncity name e.g.: q=Paris\\nUS zip e.g.: q=10001\\nUK postcode e.g: q=SW1\\nCanada postal code e.g: q=G2J\\nmetar: e.g: q=metar:EGLL\\niata:<3 digit airport code> e.g: q=iata:DXB\\nauto:ip IP lookup e.g: q=auto:ip\\nIP address (IPv4 and IPv6 supported) e.g: q=100.0.0.1'}], 'optional_parameters': [], 'response': ''}, {'root_url': 'weatherapi-com.p.rapidapi.com', 'func_url': '', 'func_name': 'weatherapicom_astronomy_api', 'method': 'GET', 'required_parameters': [{'name': 'q', 'type': 'STRING', 'input_value': 'London', 'extra': 'Query parameter based on which data is sent back. It could be following:', 'metas': [], 'description': 'Query parameter based on which data is sent back. It could be following:\\nLatitude and Longitude (Decimal degree) e.g: q=48.8567,2.3508\\ncity name e.g.: q=Paris\\nUS zip e.g.: q=10001\\nUK postcode e.g: q=SW1\\nCanada postal code e.g: q=G2J\\nmetar: e.g: q=metar:EGLL\\niata:<3 digit airport code> e.g: q=iata:DXB\\nauto:ip IP lookup e.g: q=auto:ip\\nIP address (IPv4 and IPv6 supported) e.g: q=100.0.0.1'}], 'optional_parameters': [{'name': 'dt', 'type': 'DATE (YYYY-MM-DD)', 'input_value': None, 'extra': 'Date', 'metas': [], 'description': 'Date'}], 'response': ''}, {'root_url': 'weatherapi-com.p.rapidapi.com', 'func_url': '/history.json', 'func_name': 'weatherapicom_history_weather_api', 'method': 'GET', 'required_parameters': [{'name': 'q', 'type': 'STRING', 'input_value': 'London', 'extra': 'Query parameter based on which data is sent back. It could be following:', 'metas': [], 'description': 'Query parameter based on which data is sent back. It could be following:\\nLatitude and Longitude (Decimal degree) e.g: q=48.8567,2.3508\\ncity name e.g.: q=Paris\\nUS zip e.g.: q=10001\\nUK postcode e.g: q=SW1\\nCanada postal code e.g: q=G2J\\nmetar: e.g: q=metar:EGLL\\niata:<3 digit airport code> e.g: q=iata:DXB\\nauto:ip IP lookup e.g: q=auto:ip\\nIP address (IPv4 and IPv6 supported) e.g: q=100.0.0.1'}, {'name': 'dt', 'type': 'DATE (YYYY-MM-DD)', 'input_value': None, 'extra': \"For history API 'dt' should be on or after 1st Jan, 2010 in yyyy-MM-dd format\", 'metas': [], 'description': \"For history API 'dt' should be on or after 1st Jan, 2010 in yyyy-MM-dd format\"}], 'optional_parameters': [{'name': 'lang', 'type': 'STRING', 'input_value': 'en', 'extra': \"Returns 'condition:text' field in API in the desired language\", 'metas': [], 'description': \"Returns 'condition:text' field in API in the desired language\"}, {'name': 'hour', 'type': 'NUMBER', 'input_value': None, 'extra': 'Restricting history output to a specific hour in a given day.', 'metas': [], 'description': 'Restricting history output to a specific hour in a given day.'}, {'name': 'end_dt', 'type': 'DATE (YYYY-MM-DD)', 'input_value': None, 'extra': \"Restrict date output for History API method. Should be on or after 1st Jan, 2010. Make sure end_dt is equal to or greater than 'dt'.\", 'metas': [], 'description': \"Restrict date output for History API method. Should be on or after 1st Jan, 2010. Make sure end_dt is equal to or greater than 'dt'.\"}], 'response': ''}, {'root_url': 'weatherapi-com.p.rapidapi.com', 'func_url': '/search.json', 'func_name': 'weatherapicom_search_autocomplete_api', 'method': 'GET', 'required_parameters': [{'name': 'q', 'type': 'STRING', 'input_value': '', 'extra': 'Query parameter based on which data is sent back. It could be following:', 'metas': [], 'description': 'Query parameter based on which data is sent back. It could be following:\\nLatitude and Longitude (Decimal degree) e.g: q=48.8567,2.3508\\ncity name e.g.: q=Paris\\nUS zip e.g.: q=10001\\nUK postcode e.g: q=SW1\\nCanada postal code e.g: q=G2J\\nmetar: e.g: q=metar:EGLL\\niata:<3 digit airport code> e.g: q=iata:DXB\\nauto:ip IP lookup e.g: q=auto:ip\\nIP address (IPv4 and IPv6 supported) e.g: q=100.0.0.1'}], 'optional_parameters': [], 'response': ''}, {'root_url': 'weatherapi-com.p.rapidapi.com', 'func_url': '', 'func_name': 'weatherapicom_sports_api', 'method': 'GET', 'required_parameters': [{'name': 'q', 'type': 'STRING', 'input_value': 'London', 'extra': '', 'metas': [], 'description': ''}], 'optional_parameters': [], 'response': ''}, {'root_url': 'weatherapi-com.p.rapidapi.com', 'func_url': '', 'func_name': 'weatherapicom_future_weather_api', 'method': 'GET', 'required_parameters': [{'name': 'q', 'type': 'STRING', 'input_value': 'London', 'extra': 'Query parameter based on which data is sent back. It could be following:', 'metas': [], 'description': 'Query parameter based on which data is sent back. It could be following:\\nLatitude and Longitude (Decimal degree) e.g: q=48.8567,2.3508\\ncity name e.g.: q=Paris\\nUS zip e.g.: q=10001\\nUK postcode e.g: q=SW1\\nCanada postal code e.g: q=G2J\\nmetar: e.g: q=metar:EGLL\\niata:<3 digit airport code> e.g: q=iata:DXB\\nauto:ip IP lookup e.g: q=auto:ip\\nIP address (IPv4 and IPv6 supported) e.g: q=100.0.0.1'}, {'name': 'dt', 'type': 'DATE (YYYY-MM-DD)', 'input_value': None, 'extra': \"'dt' should be between 14 days and 300 days from today in the future in yyyy-MM-dd format (i.e. dt=2023-01-01)\", 'metas': [], 'description': \"'dt' should be between 14 days and 300 days from today in the future in yyyy-MM-dd format (i.e. dt=2023-01-01)\"}], 'optional_parameters': [{'name': 'lang', 'type': 'STRING', 'input_value': '', 'extra': \"Returns 'condition:text' field in API in the desired language\", 'metas': [], 'description': \"Returns 'condition:text' field in API in the desired language\"}], 'response': ''}]}\n"
     ]
    },
    {
     "name": "stderr",
     "output_type": "stream",
     "text": [
      "\r",
      "  3%|███████▉                                                                                                                                                                                                                                                                         | 7/240 [03:27<2:41:54, 41.69s/it]"
     ]
    },
    {
     "name": "stdout",
     "output_type": "stream",
     "text": [
      "{'name': 'Open Weather', 'cate': 'Weather', 'tool_description': 'Get weather data for any location on the globe immediately with our superb API', 'api_list': [{'root_url': 'open-weather13.p.rapidapi.com', 'func_url': '/city/{cityName}', 'func_name': 'open_weather_current_weather_cityname', 'method': 'GET', 'required_parameters': [{'name': 'city', 'type': 'STRING', 'input_value': 'landon', 'extra': '', 'metas': [], 'description': ''}], 'optional_parameters': [], 'response': '200'}, {'root_url': 'open-weather13.p.rapidapi.com', 'func_url': '{lon}/{lon}', 'func_name': 'open_weather_current_weather_lat_lon', 'method': 'GET', 'required_parameters': [{'name': 'lon', 'type': 'STRING', 'input_value': '-89.1028', 'extra': '', 'metas': [], 'description': ''}, {'name': 'lat', 'type': 'STRING', 'input_value': '30.438', 'extra': '', 'metas': [], 'description': ''}], 'optional_parameters': [], 'response': ''}, {'root_url': 'open-weather13.p.rapidapi.com', 'func_url': '', 'func_name': 'open_weather_5_days_weather_forecast', 'method': 'GET', 'required_parameters': [{'name': 'lat', 'type': 'STRING', 'input_value': '30.438', 'extra': '', 'metas': [], 'description': ''}, {'name': 'lon', 'type': 'STRING', 'input_value': '-89.1028', 'extra': '', 'metas': [], 'description': ''}], 'optional_parameters': [], 'response': ''}]}\n"
     ]
    },
    {
     "name": "stderr",
     "output_type": "stream",
     "text": [
      "\r",
      "  3%|█████████                                                                                                                                                                                                                                                                        | 8/240 [04:00<2:30:59, 39.05s/it]"
     ]
    },
    {
     "name": "stdout",
     "output_type": "stream",
     "text": [
      "{'name': 'AI Weather by Meteosource', 'cate': 'Weather', 'tool_description': 'Accurate hyper-local weather forecasts, powered by our cutting-edge machine learning (ML) models. Hi', 'api_list': [{'root_url': 'ai-weather-by-meteosource.p.rapidapi.com', 'func_url': '/find_places', 'func_name': 'ai_weather_by_meteosource_find_places', 'method': '', 'required_parameters': [{'name': 'text', 'type': 'STRING', 'input_value': 'fishermans wharf', 'extra': 'Place name to search for', 'metas': [], 'description': 'Place name to search for'}], 'optional_parameters': [{'name': 'language', 'type': 'STRING', 'input_value': 'en', 'extra': 'The language the place names. Available languages are:', 'metas': [], 'description': 'The language the place names. Available languages are:\\nen: English\\nes: Spanish\\nfr: French\\nde: German\\npl: Polish\\ncs: Czech'}], 'response': '200'}, {'root_url': 'ai-weather-by-meteosource.p.rapidapi.com', 'func_url': '', 'func_name': 'ai_weather_by_meteosource_find_places_prefix', 'method': 'GET', 'required_parameters': [{'name': 'text', 'type': 'STRING', 'input_value': 'fishermans wh', 'extra': 'Place name prefix to search for', 'metas': [], 'description': 'Place name prefix to search for'}], 'optional_parameters': [{'name': 'language', 'type': 'STRING', 'input_value': 'en', 'extra': 'The language the place names. Available languages are:', 'metas': [], 'description': 'The language the place names. Available languages are:\\nen: English\\nes: Spanish\\nfr: French\\nde: German\\npl: Polish\\ncs: Czech'}], 'response': ''}, {'root_url': 'ai-weather-by-meteosource.p.rapidapi.com', 'func_url': '', 'func_name': 'ai_weather_by_meteosource_nearest_place', 'method': 'GET', 'required_parameters': [{'name': 'lat', 'type': 'STRING', 'input_value': '37.81021', 'extra': 'Latitude in format 12N, 12.3N, 12.3, or 13S, 13.2S, -13.4', 'metas': [], 'description': 'Latitude in format 12N, 12.3N, 12.3, or 13S, 13.2S, -13.4'}, {'name': 'lon', 'type': 'STRING', 'input_value': '-122.42282', 'extra': 'Longitude in format 12E, 12.3E, 12.3, or 13W, 13.2W, -13.4', 'metas': [], 'description': 'Longitude in format 12E, 12.3E, 12.3, or 13W, 13.2W, -13.4'}], 'optional_parameters': [{'name': 'language', 'type': 'STRING', 'input_value': 'en', 'extra': 'The language the place names. Available languages are:', 'metas': [], 'description': 'The language the place names. Available languages are:\\nen: English\\nes: Spanish\\nfr: French\\nde: German\\npl: Polish\\ncs: Czech'}], 'response': ''}]}\n"
     ]
    },
    {
     "name": "stderr",
     "output_type": "stream",
     "text": [
      "ERROR:root:https://rapidapi.com/arsen1c/api/the-weather-api/\n",
      "Traceback (most recent call last):\n",
      "  File \"/var/folders/rp/wmsf2gtd4ddg9wfz3b3_mn9c0000gn/T/ipykernel_51910/2889434308.py\", line 188, in visit_links\n",
      "    collected = get_api(driver, link, check_api=check_api)\n",
      "  File \"/var/folders/rp/wmsf2gtd4ddg9wfz3b3_mn9c0000gn/T/ipykernel_51910/2889434308.py\", line 167, in get_api\n",
      "    api_list = get_api_params(driver, name, check_api)\n",
      "  File \"/var/folders/rp/wmsf2gtd4ddg9wfz3b3_mn9c0000gn/T/ipykernel_51910/2889434308.py\", line 98, in get_api_params\n",
      "    response = check_api_response(driver)\n",
      "  File \"/var/folders/rp/wmsf2gtd4ddg9wfz3b3_mn9c0000gn/T/ipykernel_51910/2889434308.py\", line 67, in check_api_response\n",
      "    response_span = WebDriverWait(driver, 3).until(\n",
      "  File \"/Users/stepping1st/miniforge3/lib/python3.9/site-packages/selenium/webdriver/support/wait.py\", line 95, in until\n",
      "    raise TimeoutException(message, screen, stacktrace)\n",
      "selenium.common.exceptions.TimeoutException: Message: \n",
      "Stacktrace:\n",
      "0   chromedriver                        0x0000000104a68510 chromedriver + 4310288\n",
      "1   chromedriver                        0x0000000104a604bc chromedriver + 4277436\n",
      "2   chromedriver                        0x0000000104693b6c chromedriver + 293740\n",
      "3   chromedriver                        0x00000001046d9040 chromedriver + 577600\n",
      "4   chromedriver                        0x0000000104713e60 chromedriver + 818784\n",
      "5   chromedriver                        0x00000001046ccfd0 chromedriver + 528336\n",
      "6   chromedriver                        0x00000001046cde7c chromedriver + 532092\n",
      "7   chromedriver                        0x0000000104a2e834 chromedriver + 4073524\n",
      "8   chromedriver                        0x0000000104a327fc chromedriver + 4089852\n",
      "9   chromedriver                        0x0000000104a32c58 chromedriver + 4090968\n",
      "10  chromedriver                        0x0000000104a388f8 chromedriver + 4114680\n",
      "11  chromedriver                        0x0000000104a33234 chromedriver + 4092468\n",
      "12  chromedriver                        0x0000000104a0d604 chromedriver + 3937796\n",
      "13  chromedriver                        0x0000000104a4fee8 chromedriver + 4210408\n",
      "14  chromedriver                        0x0000000104a50064 chromedriver + 4210788\n",
      "15  chromedriver                        0x0000000104a60134 chromedriver + 4276532\n",
      "16  libsystem_pthread.dylib             0x0000000183dc426c _pthread_start + 148\n",
      "17  libsystem_pthread.dylib             0x0000000183dbf08c thread_start + 8\n",
      "\n",
      "  4%|███████████▎                                                                                                                                                                                                                                                                    | 10/240 [05:32<2:55:02, 45.66s/it]"
     ]
    },
    {
     "name": "stdout",
     "output_type": "stream",
     "text": [
      "{'name': 'Vision Weather Map', 'cate': 'Weather', 'tool_description': 'Obtain weather forecast and forecast for diverse cities.', 'api_list': [{'root_url': 'vision-weather-map.p.rapidapi.com', 'func_url': '/Current-weather/', 'func_name': 'vision_weather_map_current_weather_data', 'method': 'GET', 'required_parameters': [{'name': 'q', 'type': 'STRING', 'input_value': 'dallas,us', 'extra': 'use this parameter when searching for a city. Do not use with other parameters', 'metas': [], 'description': 'use this parameter when searching for a city. Do not use with other parameters'}], 'optional_parameters': [{'name': 'lat', 'type': 'NUMBER', 'input_value': None, 'extra': 'Must be used with lon. Get current weather data when you know the latitude of the city.', 'metas': [], 'description': 'Must be used with lon. Get current weather data when you know the latitude of the city.'}, {'name': 'lon', 'type': 'NUMBER', 'input_value': None, 'extra': 'Must be used with lat. Get current weather data when you know the longitude of the city.', 'metas': [], 'description': 'Must be used with lat. Get current weather data when you know the longitude of the city.'}, {'name': 'id', 'type': 'STRING', 'input_value': '', 'extra': 'Get current weather data when you know the city ID. Not to be used with lon, lat, or q', 'metas': [], 'description': 'Get current weather data when you know the city ID. Not to be used with lon, lat, or q'}, {'name': 'lang', 'type': 'STRING', 'input_value': 'null', 'extra': 'You can use the lang parameter to get the output in your language. We support the following languages, which you can use with the corresponding lang values: English - en, Russian - ru, Italian - it, Spanish - sp, Ukrainian - ua, German - de, Portuguese - pt, Romanian - ro, Polish - pl, Finnish - fi, Dutch - nl, French - fr, Bulgarian - bg, Swedish - se, Traditional Chinese - zht, Simplified Chinese - zhcn, Turkish - tr', 'metas': [], 'description': 'You can use the lang parameter to get the output in your language. We support the following languages, which you can use with the corresponding lang values: English - en, Russian - ru, Italian - it, Spanish - sp, Ukrainian - ua, German - de, Portuguese - pt, Romanian - ro, Polish - pl, Finnish - fi, Dutch - nl, French - fr, Bulgarian - bg, Swedish - se, Traditional Chinese - zht, Simplified Chinese - zhcn, Turkish - tr'}, {'name': 'units', 'type': 'STRING', 'input_value': 'imperial', 'extra': 'You can use different types of metric systems by units = metric or imperial', 'metas': [], 'description': 'You can use different types of metric systems by units = metric or imperial'}, {'name': 'mode', 'type': 'STRING', 'input_value': 'xml', 'extra': 'If left blank will default to JSON output. Ability to retrieve data in XML or HTML.', 'metas': [], 'description': 'If left blank will default to JSON output. Ability to retrieve data in XML or HTML.'}], 'response': '503'}, {'root_url': 'vision-weather-map.p.rapidapi.com', 'func_url': '', 'func_name': 'vision_weather_map_5_day_3_hour_forecast_data', 'method': 'GET', 'required_parameters': [], 'optional_parameters': [{'name': 'q', 'type': 'STRING', 'input_value': 'dallas,us', 'extra': '{city name}, {country code} - city name and country code divided by comma, use ISO 3166 country codes', 'metas': [], 'description': '{city name}, {country code} - city name and country code divided by comma, use ISO 3166 country codes'}], 'response': ''}, {'root_url': 'vision-weather-map.p.rapidapi.com', 'func_url': '', 'func_name': 'vision_weather_map_view_from_16_day_daily_forecast_dates', 'method': 'GET', 'required_parameters': [], 'optional_parameters': [{'name': 'q', 'type': 'STRING', 'input_value': 'dallas,us', 'extra': 'city name and country code divided by comma, use ISO 3166 country codes', 'metas': [], 'description': 'city name and country code divided by comma, use ISO 3166 country codes'}, {'name': 'lat', 'type': 'STRING', 'input_value': '', 'extra': '', 'metas': [], 'description': ''}, {'name': 'lon', 'type': 'NUMBER', 'input_value': None, 'extra': 'Must be used with lat. Get current weather data when you know the longitude of the city.', 'metas': [], 'description': 'Must be used with lat. Get current weather data when you know the longitude of the city.'}, {'name': 'cnt', 'type': 'NUMBER', 'input_value': None, 'extra': 'amount of days in the future to forecast', 'metas': [], 'description': 'amount of days in the future to forecast'}, {'name': 'units', 'type': 'STRING', 'input_value': 'imperial', 'extra': 'You can use different types of metric systems by units = metric or imperial', 'metas': [], 'description': 'You can use different types of metric systems by units = metric or imperial'}, {'name': 'mode', 'type': 'STRING', 'input_value': '', 'extra': 'mode - possible values are JSON xml. If mode parameter is empty the format is JSON by default.', 'metas': [], 'description': 'mode - possible values are JSON xml. If mode parameter is empty the format is JSON by default.'}, {'name': 'id', 'type': 'STRING', 'input_value': '', 'extra': 'city id', 'metas': [], 'description': 'city id'}, {'name': 'lang', 'type': 'STRING', 'input_value': '', 'extra': 'You can use the lang parameter to get the output in your language. We support the following languages, which you can use with the corresponding lang values: Arabic - ar, Bulgarian - bg, Catalan - ca, Czech - cz, German - de, Greek - el, English - en, Persian (Farsi) - fa, Finnish - fi, French - fr, Galician - gl, Croatian - hr, Hungarian - hu, Italian - it, Japanese - ja, Korean - kr, Latvian - la, Lithuanian - lt, Macedonian - mk, Dutch - nl, Polish - pl, Portuguese - pt, Romanian - ro, Russian - ru, Swedish - se, Slovak - sk, Slovenian - sl, Spanish - es, Turkish - tr, Ukrainian - ua, Vietnamese - vi, Simplified Chinese - zhcn, Traditional Chinese - zhtw.', 'metas': [], 'description': 'You can use the lang parameter to get the output in your language. We support the following languages, which you can use with the corresponding lang values: Arabic - ar, Bulgarian - bg, Catalan - ca, Czech - cz, German - de, Greek - el, English - en, Persian (Farsi) - fa, Finnish - fi, French - fr, Galician - gl, Croatian - hr, Hungarian - hu, Italian - it, Japanese - ja, Korean - kr, Latvian - la, Lithuanian - lt, Macedonian - mk, Dutch - nl, Polish - pl, Portuguese - pt, Romanian - ro, Russian - ru, Swedish - se, Slovak - sk, Slovenian - sl, Spanish - es, Turkish - tr, Ukrainian - ua, Vietnamese - vi, Simplified Chinese - zhcn, Traditional Chinese - zhtw.'}, {'name': 'zip', 'type': 'STRING', 'input_value': '', 'extra': '{zip code},{country code}', 'metas': [], 'description': '{zip code},{country code}'}], 'response': ''}, {'root_url': 'vision-weather-map.p.rapidapi.com', 'func_url': '', 'func_name': 'vision_weather_map_climate_forecast_for_30_days', 'method': 'GET', 'required_parameters': [], 'optional_parameters': [{'name': 'q', 'type': 'STRING', 'input_value': 'dallas,us', 'extra': '', 'metas': [], 'description': ''}], 'response': ''}]}\n"
     ]
    },
    {
     "name": "stderr",
     "output_type": "stream",
     "text": [
      "ERROR:root:https://rapidapi.com/aptitudeapps/api/noaa-tides/\n",
      "Traceback (most recent call last):\n",
      "  File \"/var/folders/rp/wmsf2gtd4ddg9wfz3b3_mn9c0000gn/T/ipykernel_51910/2889434308.py\", line 188, in visit_links\n",
      "    collected = get_api(driver, link, check_api=check_api)\n",
      "  File \"/var/folders/rp/wmsf2gtd4ddg9wfz3b3_mn9c0000gn/T/ipykernel_51910/2889434308.py\", line 167, in get_api\n",
      "    api_list = get_api_params(driver, name, check_api)\n",
      "  File \"/var/folders/rp/wmsf2gtd4ddg9wfz3b3_mn9c0000gn/T/ipykernel_51910/2889434308.py\", line 98, in get_api_params\n",
      "    response = check_api_response(driver)\n",
      "  File \"/var/folders/rp/wmsf2gtd4ddg9wfz3b3_mn9c0000gn/T/ipykernel_51910/2889434308.py\", line 67, in check_api_response\n",
      "    response_span = WebDriverWait(driver, 3).until(\n",
      "  File \"/Users/stepping1st/miniforge3/lib/python3.9/site-packages/selenium/webdriver/support/wait.py\", line 95, in until\n",
      "    raise TimeoutException(message, screen, stacktrace)\n",
      "selenium.common.exceptions.TimeoutException: Message: \n",
      "Stacktrace:\n",
      "0   chromedriver                        0x0000000104a68510 chromedriver + 4310288\n",
      "1   chromedriver                        0x0000000104a604bc chromedriver + 4277436\n",
      "2   chromedriver                        0x0000000104693b6c chromedriver + 293740\n",
      "3   chromedriver                        0x00000001046d9040 chromedriver + 577600\n",
      "4   chromedriver                        0x0000000104713e60 chromedriver + 818784\n",
      "5   chromedriver                        0x00000001046ccfd0 chromedriver + 528336\n",
      "6   chromedriver                        0x00000001046cde7c chromedriver + 532092\n",
      "7   chromedriver                        0x0000000104a2e834 chromedriver + 4073524\n",
      "8   chromedriver                        0x0000000104a327fc chromedriver + 4089852\n",
      "9   chromedriver                        0x0000000104a32c58 chromedriver + 4090968\n",
      "10  chromedriver                        0x0000000104a388f8 chromedriver + 4114680\n",
      "11  chromedriver                        0x0000000104a33234 chromedriver + 4092468\n",
      "12  chromedriver                        0x0000000104a0d604 chromedriver + 3937796\n",
      "13  chromedriver                        0x0000000104a4fee8 chromedriver + 4210408\n",
      "14  chromedriver                        0x0000000104a50064 chromedriver + 4210788\n",
      "15  chromedriver                        0x0000000104a60134 chromedriver + 4276532\n",
      "16  libsystem_pthread.dylib             0x0000000183dc426c _pthread_start + 148\n",
      "17  libsystem_pthread.dylib             0x0000000183dbf08c thread_start + 8\n",
      "\n",
      "  5%|█████████████▌                                                                                                                                                                                                                                                                  | 12/240 [05:58<1:50:18, 29.03s/it]"
     ]
    },
    {
     "name": "stdout",
     "output_type": "stream",
     "text": [
      "{'name': 'Forecast', 'cate': 'Weather', 'tool_description': 'Get 16 days weather forecast data - worldwide - geographical coordinates…', 'api_list': [{'root_url': 'forecast9.p.rapidapi.com', 'func_url': '/', 'func_name': 'forecast_index', 'method': '', 'required_parameters': [], 'optional_parameters': [], 'response': '200'}, {'root_url': 'forecast9.p.rapidapi.com', 'func_url': '/status/', 'func_name': 'forecast_getstatus', 'method': 'GET', 'required_parameters': [], 'optional_parameters': [], 'response': ''}]}\n"
     ]
    },
    {
     "name": "stderr",
     "output_type": "stream",
     "text": [
      "ERROR:root:https://rapidapi.com/meteostat/api/meteostat/\n",
      "Traceback (most recent call last):\n",
      "  File \"/var/folders/rp/wmsf2gtd4ddg9wfz3b3_mn9c0000gn/T/ipykernel_51910/2889434308.py\", line 188, in visit_links\n",
      "    collected = get_api(driver, link, check_api=check_api)\n",
      "  File \"/var/folders/rp/wmsf2gtd4ddg9wfz3b3_mn9c0000gn/T/ipykernel_51910/2889434308.py\", line 167, in get_api\n",
      "    api_list = get_api_params(driver, name, check_api)\n",
      "  File \"/var/folders/rp/wmsf2gtd4ddg9wfz3b3_mn9c0000gn/T/ipykernel_51910/2889434308.py\", line 116, in get_api_params\n",
      "    metas.append(meta.text)\n",
      "  File \"/Users/stepping1st/miniforge3/lib/python3.9/site-packages/selenium/webdriver/remote/webelement.py\", line 89, in text\n",
      "    return self._execute(Command.GET_ELEMENT_TEXT)[\"value\"]\n",
      "  File \"/Users/stepping1st/miniforge3/lib/python3.9/site-packages/selenium/webdriver/remote/webelement.py\", line 394, in _execute\n",
      "    return self._parent.execute(command, params)\n",
      "  File \"/Users/stepping1st/miniforge3/lib/python3.9/site-packages/selenium/webdriver/remote/webdriver.py\", line 344, in execute\n",
      "    self.error_handler.check_response(response)\n",
      "  File \"/Users/stepping1st/miniforge3/lib/python3.9/site-packages/selenium/webdriver/remote/errorhandler.py\", line 229, in check_response\n",
      "    raise exception_class(message, screen, stacktrace)\n",
      "selenium.common.exceptions.StaleElementReferenceException: Message: stale element reference: stale element not found\n",
      "  (Session info: chrome=118.0.5993.117); For documentation on this error, please visit: https://www.selenium.dev/documentation/webdriver/troubleshooting/errors#stale-element-reference-exception\n",
      "Stacktrace:\n",
      "0   chromedriver                        0x0000000104a68510 chromedriver + 4310288\n",
      "1   chromedriver                        0x0000000104a604bc chromedriver + 4277436\n",
      "2   chromedriver                        0x0000000104693b6c chromedriver + 293740\n",
      "3   chromedriver                        0x0000000104698e2c chromedriver + 314924\n",
      "4   chromedriver                        0x000000010469ae48 chromedriver + 323144\n",
      "5   chromedriver                        0x000000010469af74 chromedriver + 323444\n",
      "6   chromedriver                        0x00000001046d3948 chromedriver + 555336\n",
      "7   chromedriver                        0x00000001046ce774 chromedriver + 534388\n",
      "8   chromedriver                        0x0000000104713e60 chromedriver + 818784\n",
      "9   chromedriver                        0x00000001046ccfd0 chromedriver + 528336\n",
      "10  chromedriver                        0x00000001046cde7c chromedriver + 532092\n",
      "11  chromedriver                        0x0000000104a2e834 chromedriver + 4073524\n",
      "12  chromedriver                        0x0000000104a327fc chromedriver + 4089852\n",
      "13  chromedriver                        0x0000000104a32c58 chromedriver + 4090968\n",
      "14  chromedriver                        0x0000000104a388f8 chromedriver + 4114680\n",
      "15  chromedriver                        0x0000000104a33234 chromedriver + 4092468\n",
      "16  chromedriver                        0x0000000104a0d604 chromedriver + 3937796\n",
      "17  chromedriver                        0x0000000104a4fee8 chromedriver + 4210408\n",
      "18  chromedriver                        0x0000000104a50064 chromedriver + 4210788\n",
      "19  chromedriver                        0x0000000104a60134 chromedriver + 4276532\n",
      "20  libsystem_pthread.dylib             0x0000000183dc426c _pthread_start + 148\n",
      "21  libsystem_pthread.dylib             0x0000000183dbf08c thread_start + 8\n",
      "\n",
      "  6%|███████████████▊                                                                                                                                                                                                                                                                | 14/240 [07:50<2:51:34, 45.55s/it]"
     ]
    },
    {
     "name": "stdout",
     "output_type": "stream",
     "text": [
      "{'name': 'Easy Weather', 'cate': 'Weather', 'tool_description': 'Detailed current conditions, hourly forecasts, daily forecasts, and weather alerts by latitude and l', 'api_list': [{'root_url': 'easy-weather1.p.rapidapi.com', 'func_url': '/current/basic', 'func_name': 'easy_weather_current_conditions_basic', 'method': 'GET', 'required_parameters': [{'name': 'latitude', 'type': 'STRING', 'input_value': '25.77', 'extra': '', 'metas': [], 'description': ''}, {'name': 'longitude', 'type': 'STRING', 'input_value': '-80.13', 'extra': '', 'metas': [], 'description': ''}], 'optional_parameters': [], 'response': '200'}, {'root_url': 'easy-weather1.p.rapidapi.com', 'func_url': '', 'func_name': 'easy_weather_current_conditions_detailed', 'method': 'GET', 'required_parameters': [{'name': 'latitude', 'type': 'STRING', 'input_value': '48.85', 'extra': '', 'metas': [], 'description': ''}, {'name': 'longitude', 'type': 'STRING', 'input_value': '2.29', 'extra': '', 'metas': [], 'description': ''}], 'optional_parameters': [], 'response': ''}, {'root_url': 'easy-weather1.p.rapidapi.com', 'func_url': '', 'func_name': 'easy_weather_daily_forecast_5_days', 'method': 'GET', 'required_parameters': [{'name': 'latitude', 'type': 'STRING', 'input_value': '1.28', 'extra': '', 'metas': [], 'description': ''}, {'name': 'longitude', 'type': 'STRING', 'input_value': '103.86', 'extra': '', 'metas': [], 'description': ''}], 'optional_parameters': [], 'response': ''}, {'root_url': 'easy-weather1.p.rapidapi.com', 'func_url': '', 'func_name': 'easy_weather_daily_forecast_10_days', 'method': 'GET', 'required_parameters': [{'name': 'latitude', 'type': 'STRING', 'input_value': '29.98', 'extra': '', 'metas': [], 'description': ''}, {'name': 'longitude', 'type': 'STRING', 'input_value': '31.14', 'extra': '', 'metas': [], 'description': ''}], 'optional_parameters': [], 'response': ''}, {'root_url': 'easy-weather1.p.rapidapi.com', 'func_url': '', 'func_name': 'easy_weather_hourly_forecast_48_hours', 'method': 'GET', 'required_parameters': [{'name': 'latitude', 'type': 'STRING', 'input_value': '-22.95', 'extra': '', 'metas': [], 'description': ''}, {'name': 'longitude', 'type': 'STRING', 'input_value': '-43.21', 'extra': '', 'metas': [], 'description': ''}], 'optional_parameters': [], 'response': ''}, {'root_url': 'easy-weather1.p.rapidapi.com', 'func_url': '', 'func_name': 'easy_weather_hourly_forecast_240_hours', 'method': 'GET', 'required_parameters': [{'name': 'latitude', 'type': 'STRING', 'input_value': '-33.86', 'extra': '', 'metas': [], 'description': ''}, {'name': 'longitude', 'type': 'STRING', 'input_value': '151.22', 'extra': '', 'metas': [], 'description': ''}], 'optional_parameters': [], 'response': ''}, {'root_url': 'easy-weather1.p.rapidapi.com', 'func_url': '', 'func_name': 'easy_weather_weather_alerts', 'method': 'GET', 'required_parameters': [{'name': 'latitude', 'type': 'STRING', 'input_value': '47.98', 'extra': '', 'metas': [], 'description': ''}, {'name': 'longitude', 'type': 'STRING', 'input_value': '-97.44', 'extra': '', 'metas': [], 'description': ''}, {'name': 'country', 'type': 'STRING', 'input_value': 'US', 'extra': '', 'metas': [], 'description': ''}], 'optional_parameters': [], 'response': ''}, {'root_url': 'easy-weather1.p.rapidapi.com', 'func_url': '', 'func_name': 'easy_weather_complete_weather_single_call', 'method': 'GET', 'required_parameters': [{'name': 'latitude', 'type': 'STRING', 'input_value': '33.18', 'extra': '', 'metas': [], 'description': ''}, {'name': 'longitude', 'type': 'STRING', 'input_value': '-117.37', 'extra': '', 'metas': [], 'description': ''}], 'optional_parameters': [{'name': 'country', 'type': 'STRING', 'input_value': 'US', 'extra': '', 'metas': [], 'description': ''}], 'response': ''}, {'root_url': 'easy-weather1.p.rapidapi.com', 'func_url': '', 'func_name': 'easy_weather_historical_hourly', 'method': 'GET', 'required_parameters': [{'name': 'latitude', 'type': 'STRING', 'input_value': '39.53', 'extra': '', 'metas': [], 'description': ''}, {'name': 'longitude', 'type': 'STRING', 'input_value': '-79.99', 'extra': '', 'metas': [], 'description': ''}, {'name': 'date', 'type': 'STRING', 'input_value': '2022-05-01', 'extra': '', 'metas': [], 'description': ''}], 'optional_parameters': [], 'response': ''}, {'root_url': 'easy-weather1.p.rapidapi.com', 'func_url': '', 'func_name': 'easy_weather_historical_daily', 'method': 'GET', 'required_parameters': [{'name': 'latitude', 'type': 'STRING', 'input_value': '39.53', 'extra': '', 'metas': [], 'description': ''}, {'name': 'longitude', 'type': 'STRING', 'input_value': '-79.99', 'extra': '', 'metas': [], 'description': ''}, {'name': 'date', 'type': 'STRING', 'input_value': '2022-01-01', 'extra': '', 'metas': [], 'description': ''}], 'optional_parameters': [], 'response': ''}]}\n"
     ]
    },
    {
     "name": "stderr",
     "output_type": "stream",
     "text": [
      "\r",
      "  6%|█████████████████                                                                                                                                                                                                                                                               | 15/240 [08:06<2:17:51, 36.76s/it]"
     ]
    },
    {
     "name": "stdout",
     "output_type": "stream",
     "text": [
      "{'name': 'Weather API - By Any City', 'cate': 'Weather', 'tool_description': 'The API provides current weather information for a specific city worldwide. It allows users to retri', 'api_list': [{'root_url': 'weather-api-by-any-city.p.rapidapi.com', 'func_url': '/weather/London', 'func_name': 'weather_api_by_any_city_get_weather_updates', 'method': 'GET', 'required_parameters': [{'name': 'city', 'type': 'STRING', 'input_value': 'London', 'extra': '', 'metas': [], 'description': ''}], 'optional_parameters': [], 'response': '200'}]}\n"
     ]
    },
    {
     "name": "stderr",
     "output_type": "stream",
     "text": [
      "\r",
      "  7%|██████████████████▏                                                                                                                                                                                                                                                             | 16/240 [08:21<1:52:21, 30.10s/it]"
     ]
    },
    {
     "name": "stdout",
     "output_type": "stream",
     "text": [
      "{'name': 'Plant Hardiness Zone', 'cate': 'Weather', 'tool_description': 'Retrieve the USDA Plant Hardiness Zone for a ZIP code', 'api_list': [{'root_url': 'plant-hardiness-zone.p.rapidapi.com', 'func_url': '/zipcodes/90210', 'func_name': 'plant_hardiness_zone_retrieve_the_hardiness_zone', 'method': 'GET', 'required_parameters': [{'name': 'zipcode', 'type': 'STRING', 'input_value': '90210', 'extra': '', 'metas': [], 'description': ''}], 'optional_parameters': [], 'response': '200'}]}\n"
     ]
    },
    {
     "name": "stderr",
     "output_type": "stream",
     "text": [
      "ERROR:root:https://rapidapi.com/apishub/api/yahoo-weather5/\n",
      "Traceback (most recent call last):\n",
      "  File \"/var/folders/rp/wmsf2gtd4ddg9wfz3b3_mn9c0000gn/T/ipykernel_51910/2889434308.py\", line 188, in visit_links\n",
      "    collected = get_api(driver, link, check_api=check_api)\n",
      "  File \"/var/folders/rp/wmsf2gtd4ddg9wfz3b3_mn9c0000gn/T/ipykernel_51910/2889434308.py\", line 167, in get_api\n",
      "    api_list = get_api_params(driver, name, check_api)\n",
      "  File \"/var/folders/rp/wmsf2gtd4ddg9wfz3b3_mn9c0000gn/T/ipykernel_51910/2889434308.py\", line 98, in get_api_params\n",
      "    response = check_api_response(driver)\n",
      "  File \"/var/folders/rp/wmsf2gtd4ddg9wfz3b3_mn9c0000gn/T/ipykernel_51910/2889434308.py\", line 67, in check_api_response\n",
      "    response_span = WebDriverWait(driver, 3).until(\n",
      "  File \"/Users/stepping1st/miniforge3/lib/python3.9/site-packages/selenium/webdriver/support/wait.py\", line 95, in until\n",
      "    raise TimeoutException(message, screen, stacktrace)\n",
      "selenium.common.exceptions.TimeoutException: Message: \n",
      "Stacktrace:\n",
      "0   chromedriver                        0x0000000104a68510 chromedriver + 4310288\n",
      "1   chromedriver                        0x0000000104a604bc chromedriver + 4277436\n",
      "2   chromedriver                        0x0000000104693b6c chromedriver + 293740\n",
      "3   chromedriver                        0x00000001046d9040 chromedriver + 577600\n",
      "4   chromedriver                        0x0000000104713e60 chromedriver + 818784\n",
      "5   chromedriver                        0x00000001046ccfd0 chromedriver + 528336\n",
      "6   chromedriver                        0x00000001046cde7c chromedriver + 532092\n",
      "7   chromedriver                        0x0000000104a2e834 chromedriver + 4073524\n",
      "8   chromedriver                        0x0000000104a327fc chromedriver + 4089852\n",
      "9   chromedriver                        0x0000000104a32c58 chromedriver + 4090968\n",
      "10  chromedriver                        0x0000000104a388f8 chromedriver + 4114680\n",
      "11  chromedriver                        0x0000000104a33234 chromedriver + 4092468\n",
      "12  chromedriver                        0x0000000104a0d604 chromedriver + 3937796\n",
      "13  chromedriver                        0x0000000104a4fee8 chromedriver + 4210408\n",
      "14  chromedriver                        0x0000000104a50064 chromedriver + 4210788\n",
      "15  chromedriver                        0x0000000104a60134 chromedriver + 4276532\n",
      "16  libsystem_pthread.dylib             0x0000000183dc426c _pthread_start + 148\n",
      "17  libsystem_pthread.dylib             0x0000000183dbf08c thread_start + 8\n",
      "\n",
      "  8%|████████████████████▍                                                                                                                                                                                                                                                           | 18/240 [09:04<1:38:41, 26.67s/it]"
     ]
    },
    {
     "name": "stdout",
     "output_type": "stream",
     "text": [
      "{'name': 'Sunrise Sunset Times', 'cate': 'Weather', 'tool_description': 'Get sunrise and sunset times using date, latitude, and longitude.', 'api_list': [{'root_url': 'sunrise-sunset-times.p.rapidapi.com', 'func_url': '/getSunriseAndSunset', 'func_name': 'sunrise_sunset_times_get_sunrise_and_sunset_times', 'method': 'GET', 'required_parameters': [{'name': 'date', 'type': 'STRING', 'input_value': '2021-10-31', 'extra': '', 'metas': [], 'description': ''}, {'name': 'latitude', 'type': 'NUMBER', 'input_value': None, 'extra': '', 'metas': [], 'description': ''}, {'name': 'longitude', 'type': 'NUMBER', 'input_value': None, 'extra': '', 'metas': [], 'description': ''}], 'optional_parameters': [{'name': 'timeZoneId', 'type': 'STRING', 'input_value': 'America/New_York', 'extra': '', 'metas': [], 'description': ''}], 'response': '200'}]}\n"
     ]
    },
    {
     "name": "stderr",
     "output_type": "stream",
     "text": [
      "\r",
      "  8%|█████████████████████▌                                                                                                                                                                                                                                                          | 19/240 [09:42<1:50:32, 30.01s/it]"
     ]
    },
    {
     "name": "stdout",
     "output_type": "stream",
     "text": [
      "{'name': 'Weather by API-Ninjas', 'cate': 'Weather', 'tool_description': 'Get the latest weather data for any region in the world. See more info at https://api-ninjas.com/api', 'api_list': [{'root_url': 'weather-by-api-ninjas.p.rapidapi.com', 'func_url': '/weather/v1', 'func_name': 'weather_by_apininjas_v1_weather', 'method': 'GET', 'required_parameters': [], 'optional_parameters': [{'name': 'lat', 'type': 'NUMBER', 'input_value': None, 'extra': 'Latitude of desired location. If used, lon parameter must also be supplied.', 'metas': [], 'description': 'Latitude of desired location. If used, lon parameter must also be supplied.'}, {'name': 'lon', 'type': 'STRING', 'input_value': '', 'extra': 'Longitude of desired location. If used, lat parameter must also be supplied.', 'metas': [], 'description': 'Longitude of desired location. If used, lat parameter must also be supplied.'}, {'name': 'zip', 'type': 'NUMBER', 'input_value': None, 'extra': '5-digit Zip code (United States only).', 'metas': [], 'description': '5-digit Zip code (United States only).'}, {'name': 'city', 'type': 'STRING', 'input_value': 'Seattle', 'extra': 'City name.', 'metas': [], 'description': 'City name.'}, {'name': 'state', 'type': 'STRING', 'input_value': '', 'extra': 'US state (United States only).', 'metas': [], 'description': 'US state (United States only).'}, {'name': 'country', 'type': 'STRING', 'input_value': '', 'extra': 'Country name.', 'metas': [], 'description': 'Country name.'}], 'response': '200'}]}\n"
     ]
    },
    {
     "name": "stderr",
     "output_type": "stream",
     "text": [
      "\r",
      "  8%|██████████████████████▋                                                                                                                                                                                                                                                         | 20/240 [12:56<4:50:01, 79.10s/it]"
     ]
    },
    {
     "name": "stdout",
     "output_type": "stream",
     "text": [
      "{'name': 'World Weather Online API', 'cate': 'Weather', 'tool_description': 'Free Weather API and Geo API for worldwide locations, hourly weather, 14-day weather, historical wea', 'api_list': [{'root_url': 'world-weather-online-api1.p.rapidapi.com', 'func_url': '/weather.ashx', 'func_name': 'world_weather_online_api_local_weather_api', 'method': 'GET', 'required_parameters': [{'name': 'q', 'type': 'STRING', 'input_value': '40.73,-73', 'extra': '', 'metas': [], 'description': ''}], 'optional_parameters': [{'name': 'num_of_days', 'type': 'NUMBER', 'input_value': None, 'extra': '', 'metas': [], 'description': ''}, {'name': 'tp', 'type': 'ENUM', 'input_value': None, 'extra': '', 'metas': [], 'description': ''}, {'name': 'lang', 'type': 'STRING', 'input_value': 'en', 'extra': '', 'metas': [], 'description': ''}, {'name': 'aqi', 'type': 'STRING', 'input_value': 'yes', 'extra': '', 'metas': [], 'description': ''}, {'name': 'alerts', 'type': 'STRING', 'input_value': 'no', 'extra': '', 'metas': [], 'description': ''}, {'name': 'format', 'type': 'ENUM', 'input_value': None, 'extra': '', 'metas': [], 'description': ''}], 'response': '200'}, {'root_url': 'world-weather-online-api1.p.rapidapi.com', 'func_url': '', 'func_name': 'world_weather_online_api_marine_weather_api', 'method': 'GET', 'required_parameters': [{'name': 'q', 'type': 'STRING', 'input_value': '49.597, -8.19', 'extra': '', 'metas': [], 'description': ''}], 'optional_parameters': [{'name': 'num_of_days', 'type': 'NUMBER', 'input_value': None, 'extra': '', 'metas': [], 'description': ''}, {'name': 'lang', 'type': 'STRING', 'input_value': 'en', 'extra': '', 'metas': [], 'description': ''}, {'name': 'tp', 'type': 'ENUM', 'input_value': None, 'extra': '', 'metas': [], 'description': ''}, {'name': 'tide', 'type': 'STRING', 'input_value': 'no', 'extra': '', 'metas': [], 'description': ''}, {'name': 'format', 'type': 'ENUM', 'input_value': None, 'extra': '', 'metas': [], 'description': ''}], 'response': ''}, {'root_url': 'world-weather-online-api1.p.rapidapi.com', 'func_url': '', 'func_name': 'world_weather_online_api_ski_weather_api', 'method': 'GET', 'required_parameters': [{'name': 'q', 'type': 'STRING', 'input_value': '45.45,6.7', 'extra': '', 'metas': [], 'description': ''}], 'optional_parameters': [{'name': 'num_of_days', 'type': 'NUMBER', 'input_value': None, 'extra': '', 'metas': [], 'description': ''}, {'name': 'lang', 'type': 'STRING', 'input_value': 'en', 'extra': '', 'metas': [], 'description': ''}, {'name': 'tp', 'type': 'ENUM', 'input_value': None, 'extra': '', 'metas': [], 'description': ''}, {'name': 'format', 'type': 'ENUM', 'input_value': None, 'extra': '', 'metas': [], 'description': ''}], 'response': ''}, {'root_url': 'world-weather-online-api1.p.rapidapi.com', 'func_url': '', 'func_name': 'world_weather_online_api_search_api', 'method': 'GET', 'required_parameters': [{'name': 'q', 'type': 'STRING', 'input_value': 'london', 'extra': '', 'metas': [], 'description': ''}], 'optional_parameters': [{'name': 'format', 'type': 'ENUM', 'input_value': None, 'extra': '', 'metas': [], 'description': ''}], 'response': ''}, {'root_url': 'world-weather-online-api1.p.rapidapi.com', 'func_url': '', 'func_name': 'world_weather_online_api_astronomy_api', 'method': 'GET', 'required_parameters': [{'name': 'date', 'type': 'DATE (YYYY-MM-DD)', 'input_value': None, 'extra': '', 'metas': [], 'description': ''}, {'name': 'q', 'type': 'STRING', 'input_value': '53,-0.13', 'extra': '', 'metas': [], 'description': ''}], 'optional_parameters': [{'name': 'format', 'type': 'ENUM', 'input_value': None, 'extra': '', 'metas': [], 'description': ''}], 'response': ''}, {'root_url': 'world-weather-online-api1.p.rapidapi.com', 'func_url': '', 'func_name': 'world_weather_online_api_time_zone_api', 'method': 'GET', 'required_parameters': [{'name': 'q', 'type': 'STRING', 'input_value': '53,-0.13', 'extra': '', 'metas': [], 'description': ''}], 'optional_parameters': [{'name': 'format', 'type': 'ENUM', 'input_value': None, 'extra': '', 'metas': [], 'description': ''}], 'response': ''}, {'root_url': 'world-weather-online-api1.p.rapidapi.com', 'func_url': '', 'func_name': 'world_weather_online_api_local_history_weather_api', 'method': 'GET', 'required_parameters': [{'name': 'date', 'type': 'DATE (YYYY-MM-DD)', 'input_value': None, 'extra': '', 'metas': [], 'description': ''}, {'name': 'q', 'type': 'STRING', 'input_value': 'london', 'extra': '', 'metas': [], 'description': ''}], 'optional_parameters': [{'name': 'lang', 'type': 'STRING', 'input_value': 'en', 'extra': '', 'metas': [], 'description': ''}, {'name': 'enddate', 'type': 'DATE (YYYY-MM-DD)', 'input_value': None, 'extra': '', 'metas': [], 'description': ''}, {'name': 'tp', 'type': 'ENUM', 'input_value': None, 'extra': '', 'metas': [], 'description': ''}, {'name': 'format', 'type': 'ENUM', 'input_value': None, 'extra': '', 'metas': [], 'description': ''}], 'response': ''}, {'root_url': 'world-weather-online-api1.p.rapidapi.com', 'func_url': '', 'func_name': 'world_weather_online_api_marine_history_weather_api', 'method': 'GET', 'required_parameters': [{'name': 'date', 'type': 'DATE (YYYY-MM-DD)', 'input_value': None, 'extra': '', 'metas': [], 'description': ''}, {'name': 'q', 'type': 'STRING', 'input_value': '49.597, -8.19', 'extra': '', 'metas': [], 'description': ''}], 'optional_parameters': [{'name': 'lang', 'type': 'STRING', 'input_value': 'en', 'extra': '', 'metas': [], 'description': ''}, {'name': 'tide', 'type': 'STRING', 'input_value': 'no', 'extra': '', 'metas': [], 'description': ''}, {'name': 'tp', 'type': 'ENUM', 'input_value': None, 'extra': '', 'metas': [], 'description': ''}, {'name': 'enddate', 'type': 'DATE (YYYY-MM-DD)', 'input_value': None, 'extra': '', 'metas': [], 'description': ''}, {'name': 'format', 'type': 'ENUM', 'input_value': None, 'extra': '', 'metas': [], 'description': ''}], 'response': ''}]}\n"
     ]
    },
    {
     "name": "stderr",
     "output_type": "stream",
     "text": [
      "ERROR:root:https://rapidapi.com/aptitudeapps/api/koppen-climate-classification/\n",
      "Traceback (most recent call last):\n",
      "  File \"/var/folders/rp/wmsf2gtd4ddg9wfz3b3_mn9c0000gn/T/ipykernel_51910/2889434308.py\", line 188, in visit_links\n",
      "    collected = get_api(driver, link, check_api=check_api)\n",
      "  File \"/var/folders/rp/wmsf2gtd4ddg9wfz3b3_mn9c0000gn/T/ipykernel_51910/2889434308.py\", line 167, in get_api\n",
      "    api_list = get_api_params(driver, name, check_api)\n",
      "  File \"/var/folders/rp/wmsf2gtd4ddg9wfz3b3_mn9c0000gn/T/ipykernel_51910/2889434308.py\", line 98, in get_api_params\n",
      "    response = check_api_response(driver)\n",
      "  File \"/var/folders/rp/wmsf2gtd4ddg9wfz3b3_mn9c0000gn/T/ipykernel_51910/2889434308.py\", line 67, in check_api_response\n",
      "    response_span = WebDriverWait(driver, 3).until(\n",
      "  File \"/Users/stepping1st/miniforge3/lib/python3.9/site-packages/selenium/webdriver/support/wait.py\", line 95, in until\n",
      "    raise TimeoutException(message, screen, stacktrace)\n",
      "selenium.common.exceptions.TimeoutException: Message: \n",
      "Stacktrace:\n",
      "0   chromedriver                        0x0000000104a68510 chromedriver + 4310288\n",
      "1   chromedriver                        0x0000000104a604bc chromedriver + 4277436\n",
      "2   chromedriver                        0x0000000104693b6c chromedriver + 293740\n",
      "3   chromedriver                        0x00000001046d9040 chromedriver + 577600\n",
      "4   chromedriver                        0x0000000104713e60 chromedriver + 818784\n",
      "5   chromedriver                        0x00000001046ccfd0 chromedriver + 528336\n",
      "6   chromedriver                        0x00000001046cde7c chromedriver + 532092\n",
      "7   chromedriver                        0x0000000104a2e834 chromedriver + 4073524\n",
      "8   chromedriver                        0x0000000104a327fc chromedriver + 4089852\n",
      "9   chromedriver                        0x0000000104a32c58 chromedriver + 4090968\n",
      "10  chromedriver                        0x0000000104a388f8 chromedriver + 4114680\n",
      "11  chromedriver                        0x0000000104a33234 chromedriver + 4092468\n",
      "12  chromedriver                        0x0000000104a0d604 chromedriver + 3937796\n",
      "13  chromedriver                        0x0000000104a4fee8 chromedriver + 4210408\n",
      "14  chromedriver                        0x0000000104a50064 chromedriver + 4210788\n",
      "15  chromedriver                        0x0000000104a60134 chromedriver + 4276532\n",
      "16  libsystem_pthread.dylib             0x0000000183dc426c _pthread_start + 148\n",
      "17  libsystem_pthread.dylib             0x0000000183dbf08c thread_start + 8\n",
      "\n",
      "  9%|████████████████████████▉                                                                                                                                                                                                                                                       | 22/240 [13:45<3:10:36, 52.46s/it]"
     ]
    },
    {
     "name": "stdout",
     "output_type": "stream",
     "text": [
      "{'name': 'Air Quality by API-Ninjas', 'cate': 'Weather', 'tool_description': 'Get current air quality data for any region. See more info at See more info at https://api-ninjas.co', 'api_list': [{'root_url': 'air-quality-by-api-ninjas.p.rapidapi.com', 'func_url': '/airquality/v1', 'func_name': 'air_quality_by_apininjas_v1_airquality', 'method': 'GET', 'required_parameters': [], 'optional_parameters': [{'name': 'lat', 'type': 'NUMBER', 'input_value': None, 'extra': 'Latitude of desired location. If used, the lon parameter must also be supplied.', 'metas': [], 'description': 'Latitude of desired location. If used, the lon parameter must also be supplied.'}, {'name': 'lon', 'type': 'NUMBER', 'input_value': None, 'extra': 'Longitude of desired location. If used, the lat parameter must also be supplied.', 'metas': [], 'description': 'Longitude of desired location. If used, the lat parameter must also be supplied.'}, {'name': 'city', 'type': 'STRING', 'input_value': 'Seattle', 'extra': 'City name.', 'metas': [], 'description': 'City name.'}, {'name': 'state', 'type': 'STRING', 'input_value': '', 'extra': 'US state (United States only).', 'metas': [], 'description': 'US state (United States only).'}, {'name': 'country', 'type': 'STRING', 'input_value': '', 'extra': 'Country name.', 'metas': [], 'description': 'Country name.'}, {'name': 'zip', 'type': 'STRING', 'input_value': '', 'extra': '', 'metas': [], 'description': ''}], 'response': '200'}]}\n"
     ]
    },
    {
     "name": "stderr",
     "output_type": "stream",
     "text": [
      "ERROR:root:https://rapidapi.com/apidojo/api/weather338/\n",
      "Traceback (most recent call last):\n",
      "  File \"/var/folders/rp/wmsf2gtd4ddg9wfz3b3_mn9c0000gn/T/ipykernel_51910/2889434308.py\", line 188, in visit_links\n",
      "    collected = get_api(driver, link, check_api=check_api)\n",
      "  File \"/var/folders/rp/wmsf2gtd4ddg9wfz3b3_mn9c0000gn/T/ipykernel_51910/2889434308.py\", line 167, in get_api\n",
      "    api_list = get_api_params(driver, name, check_api)\n",
      "  File \"/var/folders/rp/wmsf2gtd4ddg9wfz3b3_mn9c0000gn/T/ipykernel_51910/2889434308.py\", line 98, in get_api_params\n",
      "    response = check_api_response(driver)\n",
      "  File \"/var/folders/rp/wmsf2gtd4ddg9wfz3b3_mn9c0000gn/T/ipykernel_51910/2889434308.py\", line 67, in check_api_response\n",
      "    response_span = WebDriverWait(driver, 3).until(\n",
      "  File \"/Users/stepping1st/miniforge3/lib/python3.9/site-packages/selenium/webdriver/support/wait.py\", line 95, in until\n",
      "    raise TimeoutException(message, screen, stacktrace)\n",
      "selenium.common.exceptions.TimeoutException: Message: \n",
      "Stacktrace:\n",
      "0   chromedriver                        0x0000000104a68510 chromedriver + 4310288\n",
      "1   chromedriver                        0x0000000104a604bc chromedriver + 4277436\n",
      "2   chromedriver                        0x0000000104693b6c chromedriver + 293740\n",
      "3   chromedriver                        0x00000001046d9040 chromedriver + 577600\n",
      "4   chromedriver                        0x0000000104713e60 chromedriver + 818784\n",
      "5   chromedriver                        0x00000001046ccfd0 chromedriver + 528336\n",
      "6   chromedriver                        0x00000001046cde7c chromedriver + 532092\n",
      "7   chromedriver                        0x0000000104a2e834 chromedriver + 4073524\n",
      "8   chromedriver                        0x0000000104a327fc chromedriver + 4089852\n",
      "9   chromedriver                        0x0000000104a32c58 chromedriver + 4090968\n",
      "10  chromedriver                        0x0000000104a388f8 chromedriver + 4114680\n",
      "11  chromedriver                        0x0000000104a33234 chromedriver + 4092468\n",
      "12  chromedriver                        0x0000000104a0d604 chromedriver + 3937796\n",
      "13  chromedriver                        0x0000000104a4fee8 chromedriver + 4210408\n",
      "14  chromedriver                        0x0000000104a50064 chromedriver + 4210788\n",
      "15  chromedriver                        0x0000000104a60134 chromedriver + 4276532\n",
      "16  libsystem_pthread.dylib             0x0000000183dc426c _pthread_start + 148\n",
      "17  libsystem_pthread.dylib             0x0000000183dbf08c thread_start + 8\n",
      "\n",
      " 10%|██████████████████████████                                                                                                                                                                                                                                                      | 23/240 [13:58<2:26:25, 40.49s/it]ERROR:root:https://rapidapi.com/tekoolproducts/api/apjoy-weather-forecast/\n",
      "Traceback (most recent call last):\n",
      "  File \"/var/folders/rp/wmsf2gtd4ddg9wfz3b3_mn9c0000gn/T/ipykernel_51910/2889434308.py\", line 188, in visit_links\n",
      "    collected = get_api(driver, link, check_api=check_api)\n",
      "  File \"/var/folders/rp/wmsf2gtd4ddg9wfz3b3_mn9c0000gn/T/ipykernel_51910/2889434308.py\", line 167, in get_api\n",
      "    api_list = get_api_params(driver, name, check_api)\n",
      "  File \"/var/folders/rp/wmsf2gtd4ddg9wfz3b3_mn9c0000gn/T/ipykernel_51910/2889434308.py\", line 98, in get_api_params\n",
      "    response = check_api_response(driver)\n",
      "  File \"/var/folders/rp/wmsf2gtd4ddg9wfz3b3_mn9c0000gn/T/ipykernel_51910/2889434308.py\", line 67, in check_api_response\n",
      "    response_span = WebDriverWait(driver, 3).until(\n",
      "  File \"/Users/stepping1st/miniforge3/lib/python3.9/site-packages/selenium/webdriver/support/wait.py\", line 95, in until\n",
      "    raise TimeoutException(message, screen, stacktrace)\n",
      "selenium.common.exceptions.TimeoutException: Message: \n",
      "Stacktrace:\n",
      "0   chromedriver                        0x0000000104a68510 chromedriver + 4310288\n",
      "1   chromedriver                        0x0000000104a604bc chromedriver + 4277436\n",
      "2   chromedriver                        0x0000000104693b6c chromedriver + 293740\n",
      "3   chromedriver                        0x00000001046d9040 chromedriver + 577600\n",
      "4   chromedriver                        0x0000000104713e60 chromedriver + 818784\n",
      "5   chromedriver                        0x00000001046ccfd0 chromedriver + 528336\n",
      "6   chromedriver                        0x00000001046cde7c chromedriver + 532092\n",
      "7   chromedriver                        0x0000000104a2e834 chromedriver + 4073524\n",
      "8   chromedriver                        0x0000000104a327fc chromedriver + 4089852\n",
      "9   chromedriver                        0x0000000104a32c58 chromedriver + 4090968\n",
      "10  chromedriver                        0x0000000104a388f8 chromedriver + 4114680\n",
      "11  chromedriver                        0x0000000104a33234 chromedriver + 4092468\n",
      "12  chromedriver                        0x0000000104a0d604 chromedriver + 3937796\n",
      "13  chromedriver                        0x0000000104a4fee8 chromedriver + 4210408\n",
      "14  chromedriver                        0x0000000104a50064 chromedriver + 4210788\n",
      "15  chromedriver                        0x0000000104a60134 chromedriver + 4276532\n",
      "16  libsystem_pthread.dylib             0x0000000183dc426c _pthread_start + 148\n",
      "17  libsystem_pthread.dylib             0x0000000183dbf08c thread_start + 8\n",
      "\n",
      "100%|█████████████████████████████████████████████████████████████████████████████████████████████████████████████████████████████████████████████████████████████████████████████████████████████████████████████████████████████████████████████████████████████████████████████████| 240/240 [29:28<00:00,  7.37s/it]\n"
     ]
    },
    {
     "data": {
      "text/plain": [
       "13"
      ]
     },
     "execution_count": 139,
     "metadata": {},
     "output_type": "execute_result"
    }
   ],
   "source": [
    "from selenium.webdriver.support.ui import WebDriverWait\n",
    "from selenium.webdriver.support import expected_conditions as EC\n",
    "import tqdm\n",
    "import re\n",
    "import logging\n",
    "\n",
    "\n",
    "def to_snake_case(input_string):\n",
    "    # 문자열 내의 모든 공백과 /를 언더스코어(_)로 대체\n",
    "    input_string = re.sub(r'[\\s/]', '_', input_string)\n",
    "    # 소문자로 변환\n",
    "    input_string = input_string.lower()\n",
    "    # 특수 문자 제거 (예: /)\n",
    "    input_string = re.sub(r'[^a-z0-9_]', '', input_string)\n",
    "    # 언더스코어(_) 연속을 하나의 언더스코어로 축약\n",
    "    input_string = re.sub(r'_+', '_', input_string)\n",
    "    # 언더스코어(_)로 시작하거나 끝나는 경우 제거\n",
    "    input_string = input_string.strip('_')\n",
    "    \n",
    "    return input_string\n",
    "\n",
    "\n",
    "def replace_by_path_vars(url, sub_path):\n",
    "    url_paths = url.split(\"/\")\n",
    "    sub_paths = sub_path.split(\"/\")\n",
    "    final_paths = []\n",
    "    for i in range(len(sub_paths) - 1):\n",
    "        sub_last = sub_paths[-1].strip()\n",
    "        if sub_last.startswith(\"{\") and sub_last.endswith(\"}\"):\n",
    "            final_paths.append(sub_last)\n",
    "        else:\n",
    "            final_paths.append(url_paths[-1])\n",
    "        url_paths = url_paths[:-1]\n",
    "    return \"/\".join(url_paths + final_paths)\n",
    "\n",
    "\n",
    "def subscribe_api(driver, link):\n",
    "    price_link = link + 'pricing'\n",
    "    driver.get(price_link)\n",
    "    # elements = driver.find_elements(By.CSS_SELECTOR, 'button.button')\n",
    "    div_elements = driver.find_elements(By.XPATH, f\"//h2[contains(text(), '$0.00')]\")\n",
    "    if 0 < len(div_elements):\n",
    "        # 부모 HTML 태그 (부모 엘리먼트) 찾기\n",
    "        buttons = div_elements[0].find_elements(By.XPATH, \"./.././/div[@class='buttonContent']\")  # \"..\"은 현재 요소의 부모를 나타내는 XPath입니다\n",
    "        if 0 < len(buttons):\n",
    "            buttons[0].click()\n",
    "            subscribe = WebDriverWait(driver, 2).until(\n",
    "                EC.presence_of_element_located((By.XPATH, f\"//button[@aria-label='CreateSubscriptionBtn']\"))\n",
    "            )\n",
    "            subscribe.click()\n",
    "            complete = WebDriverWait(driver, 2).until(\n",
    "                EC.presence_of_element_located((By.XPATH, f\"//h2[contains(text(), 'Subscription Created Successfully')]\"))\n",
    "            )\n",
    "            print(price_link, complete.text)\n",
    "        return True\n",
    "    else:\n",
    "        return False\n",
    "\n",
    "\n",
    "def check_api_response(driver):\n",
    "    response = None\n",
    "    test_button = WebDriverWait(driver, 2).until(\n",
    "        EC.presence_of_element_located((By.XPATH, f\".//button[@data-id='endpoint-test-button']\"))\n",
    "    )\n",
    "    if test_button:\n",
    "        test_button.click()\n",
    "        response_span = WebDriverWait(driver, 3).until(\n",
    "            EC.presence_of_element_located((By.XPATH, f\".//div[@data-id='response-status']/span[@class='ant-tag ant-tag-has-color']\"))\n",
    "        )\n",
    "        response = response_span.text\n",
    "        code_snippets = WebDriverWait(driver, 2).until(\n",
    "            EC.presence_of_element_located((By.XPATH, f\".//div[contains(text(), 'Code Snippets')]\"))\n",
    "        )\n",
    "        code_snippets.click()\n",
    "    return response\n",
    "    \n",
    "            \n",
    "def get_api_params(driver, api_name, check_api=False):\n",
    "    frame = WebDriverWait(driver, 5).until(\n",
    "        EC.presence_of_element_located((By.XPATH, f\"//iframe[@class='PlaygroundContainer']\"))\n",
    "    )\n",
    "    driver.get(url=frame.get_attribute(\"src\"))\n",
    "    api_list = WebDriverWait(driver, 10).until(\n",
    "        EC.presence_of_element_located((By.XPATH, f\"//div[contains(@class, 'sc-eWhHU')]\"))\n",
    "    )    \n",
    "    api_elements = driver.find_elements(By.XPATH, f\"//div[contains(@class, 'sc-eWhHU')]\")\n",
    "    api_list = []\n",
    "    for api in api_elements:\n",
    "        root_url = None\n",
    "        url = None\n",
    "        func_name = api.get_attribute(\"title\")\n",
    "        method = api.find_element(By.XPATH, \".//span[@class='notranslate']\").text\n",
    "        button = api.find_element(By.XPATH, \".//div[@role='button']\")\n",
    "        button.click()\n",
    "        \n",
    "        response = None\n",
    "        if check_api:\n",
    "            response = check_api_response(driver)\n",
    "                \n",
    "        required_parameters = []\n",
    "        optional_parameters = []\n",
    "        api_params = driver.find_elements(By.XPATH, \".//div[@class='ant-collapse-content-box']/div[contains(@class, 'sc-gCkVGe')]\")\n",
    "        for api_param in api_params:\n",
    "            name = api_param.find_element(By.XPATH, \".//label[@class='name']\").text\n",
    "            if (not (\"RapidAPI\" in name)) and name != \"all\":\n",
    "                data_type = api_param.find_element(By.XPATH, \".//div[@class='type']\").text\n",
    "                extra = api_param.find_element(By.XPATH, \".//div[@class='extra']\").text\n",
    "                description = api_param.find_element(By.XPATH, \".//div[@class='description']\").text\n",
    "                meta_fields = api_param.find_elements(By.XPATH, f\".//div[@class='meta-fields']/p\")\n",
    "                input_value = None\n",
    "                input_values = api_param.find_elements(By.XPATH, \".//input[@type='text']\")\n",
    "                if 0 < len(input_values):\n",
    "                    input_value = input_values[0].get_attribute(\"value\")\n",
    "                metas = []\n",
    "                for meta in meta_fields:\n",
    "                    metas.append(meta.text)\n",
    "                if extra.startswith(\"REQUIRED\"):\n",
    "                    target_list = required_parameters\n",
    "                else:\n",
    "                    target_list = optional_parameters\n",
    "                extra = extra.split(\"\\n\")\n",
    "                if 1 < len(extra):\n",
    "                    extra = extra[1]\n",
    "                else:\n",
    "                    extra = \"\"\n",
    "                api_info = dict(\n",
    "                    name=name,\n",
    "                    type=data_type,\n",
    "                    input_value=input_value,\n",
    "                    extra=extra,\n",
    "                    metas=metas,\n",
    "                    description=description,\n",
    "                )\n",
    "                target_list.append(api_info)\n",
    "            elif \"RapidAPI-Host\" in name:\n",
    "                root_url = api_param.find_element(By.XPATH, \".//input[@id='x-rapidapi-host']\").get_attribute(\"value\")\n",
    "        if root_url:\n",
    "            url = driver.find_element(By.XPATH, f\".//span[contains(text(), '\" + root_url + \"')]\")\n",
    "            url = url.text\n",
    "            if url.startswith(\"'\") or url.startswith(\"\\\"\"):\n",
    "                url = url[1:]\n",
    "            if url.endswith(\"'\") or url.startswith(\"\\\"\"):\n",
    "                url = url[:-1]\n",
    "            url = replace_by_path_vars(url, func_name)\n",
    "            split_urls = url.split(root_url)\n",
    "            func_url = split_urls[-1]\n",
    "        func_name = to_snake_case(f\"{api_name} {func_name}\")\n",
    "        info = dict(\n",
    "                root_url=root_url,\n",
    "                func_url=func_url, \n",
    "                func_name=func_name,\n",
    "                method=method, \n",
    "                required_parameters=required_parameters, \n",
    "                optional_parameters=optional_parameters,\n",
    "                response=response,\n",
    "               )\n",
    "        api_list.append(info)\n",
    "    return api_list\n",
    "\n",
    "\n",
    "def get_api(driver, link, check_api=False):\n",
    "    driver.get(link)\n",
    "    tool_description = driver.find_element(By.XPATH, \".//div[@class='MarkdownPreview']/p\").text\n",
    "    name = driver.find_element(By.XPATH, \".//div[@class='ProductInfo']/div[@class='Name']/h2\").text\n",
    "    metas = driver.find_elements(By.XPATH, \".//div[@class='ProductInfo']/div[@class='About']/a\")\n",
    "    cate = metas[1].text\n",
    "    api_list = get_api_params(driver, name, check_api)\n",
    "    return dict(\n",
    "        name=name,\n",
    "        cate=cate,\n",
    "        tool_description=tool_description,\n",
    "        api_list=api_list,\n",
    "    )\n",
    "\n",
    "\n",
    "def visit_links(links, subscribe=True, collect_api=True, from_idx=0, size=None, \n",
    "                show=False, check_api=False):\n",
    "    if size is None:\n",
    "        size = len(links)\n",
    "    collect_apis = []\n",
    "    for link in tqdm.tqdm(links[from_idx:from_idx + size]):\n",
    "        try:\n",
    "            if subscribe:\n",
    "                is_success = subscribe_api(driver, link)\n",
    "            else:\n",
    "                is_success = True\n",
    "            if is_success and collect_api:\n",
    "                collected = get_api(driver, link, check_api=check_api)\n",
    "                if show:\n",
    "                    print(collected)\n",
    "                collect_apis.append(collected) \n",
    "        except Exception as e:\n",
    "            logging.error(link, exc_info=True)\n",
    "    return collect_apis\n",
    "\n",
    "\n",
    "# links = get_page_links(driver, 'https://rapidapi.com/collection/city-data-api')\n",
    "# links = get_page_links(driver, 'https://rapidapi.com/category/Weather')\n",
    "# links = get_page_links(driver, 'https://rapidapi.com/collection/trending-news-apis')\n",
    "api_info = visit_links(links, subscribe=True, collect_api=True, from_idx=0, size=None, \n",
    "                       show=True, check_api=True)\n",
    "len(api_info)"
   ]
  },
  {
   "cell_type": "markdown",
   "id": "96a548f3",
   "metadata": {},
   "source": [
    "# "
   ]
  },
  {
   "cell_type": "markdown",
   "id": "19b2a900-af7c-4880-ad1b-a3b16cb00112",
   "metadata": {},
   "source": [
    "### 응답이 200 온것만 필터링"
   ]
  },
  {
   "cell_type": "code",
   "execution_count": 141,
   "id": "7fbd3903",
   "metadata": {},
   "outputs": [
    {
     "data": {
      "text/plain": [
       "12"
      ]
     },
     "execution_count": 141,
     "metadata": {},
     "output_type": "execute_result"
    }
   ],
   "source": [
    "import copy\n",
    "\n",
    "\n",
    "def filter_by_response(apis):\n",
    "    result = []\n",
    "    for api in apis:\n",
    "        api_list = [a for a in api[\"api_list\"] if a[\"response\"] == \"200\"]\n",
    "        if 0 < len(api_list):\n",
    "            api = copy.copy(api)\n",
    "            api[\"api_list\"] = api_list\n",
    "            result.append(api)\n",
    "    return result\n",
    "\n",
    "\n",
    "filtered_api = filter_by_response(api_info)\n",
    "len(filtered_api)"
   ]
  },
  {
   "cell_type": "markdown",
   "id": "6f7a1150-2297-431f-a022-b328799e07fd",
   "metadata": {},
   "source": [
    "### 수집한 데이터 저장"
   ]
  },
  {
   "cell_type": "code",
   "execution_count": 156,
   "id": "217f2d65",
   "metadata": {},
   "outputs": [],
   "source": [
    "import json\n",
    "\n",
    "with open('weather.jsonl', 'w') as file:\n",
    "    for api in filtered_api:\n",
    "        file.write(json.dumps(api))\n",
    "        file.write(\"\\n\")"
   ]
  },
  {
   "cell_type": "code",
   "execution_count": 154,
   "id": "02320a0c",
   "metadata": {},
   "outputs": [
    {
     "name": "stdout",
     "output_type": "stream",
     "text": [
      "Visual Crossing Weather\n",
      "WeatherAPI.com\n",
      "Open Weather\n",
      "AI Weather by Meteosource\n",
      "Forecast\n",
      "Easy Weather\n",
      "Weather API - By Any City\n",
      "Plant Hardiness Zone\n",
      "Sunrise Sunset Times\n",
      "Weather by API-Ninjas\n",
      "World Weather Online API\n",
      "Air Quality by API-Ninjas\n"
     ]
    }
   ],
   "source": [
    "for api in filtered_api:\n",
    "    print(api[\"name\"])"
   ]
  },
  {
   "cell_type": "code",
   "execution_count": null,
   "id": "32c1e5fb",
   "metadata": {},
   "outputs": [],
   "source": []
  },
  {
   "cell_type": "code",
   "execution_count": null,
   "id": "29e6ea3a",
   "metadata": {},
   "outputs": [],
   "source": []
  }
 ],
 "metadata": {
  "kernelspec": {
   "display_name": "Python 3 (ipykernel)",
   "language": "python",
   "name": "python3"
  },
  "language_info": {
   "codemirror_mode": {
    "name": "ipython",
    "version": 3
   },
   "file_extension": ".py",
   "mimetype": "text/x-python",
   "name": "python",
   "nbconvert_exporter": "python",
   "pygments_lexer": "ipython3",
   "version": "3.9.18"
  }
 },
 "nbformat": 4,
 "nbformat_minor": 5
}
